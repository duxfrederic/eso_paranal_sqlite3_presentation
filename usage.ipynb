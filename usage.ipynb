{
 "cells": [
  {
   "cell_type": "code",
   "execution_count": 1,
   "id": "3d69abc7-2d87-437d-acdf-c70511cba06a",
   "metadata": {},
   "outputs": [],
   "source": [
    "from pathlib import Path\n",
    "import matplotlib.pyplot as plt\n",
    "from astropy.io import fits\n",
    "\n",
    "from pipeline.database import DatabaseInterface, register_fits_files\n",
    "from pipeline.reducer import reduce_science_file"
   ]
  },
  {
   "cell_type": "code",
   "execution_count": 2,
   "id": "1630c3b6-a1a2-489b-810d-e511f8c29577",
   "metadata": {},
   "outputs": [],
   "source": [
    "workdir = Path('workdir')\n",
    "db_path = workdir / 'db.sqlite3'\n",
    "raw_path = workdir / 'raw'\n",
    "\n",
    "if db_path.exists(): db_path.unlink()"
   ]
  },
  {
   "cell_type": "markdown",
   "id": "84f1a0c9-a282-413e-a3cd-e0fb59a74be3",
   "metadata": {},
   "source": [
    "# 1 register our raw frames into the database"
   ]
  },
  {
   "cell_type": "code",
   "execution_count": 3,
   "id": "6b2fb8a0-f1b3-4cd0-b373-0945812eac05",
   "metadata": {},
   "outputs": [],
   "source": [
    "register_fits_files(raw_path, db_path)"
   ]
  },
  {
   "cell_type": "markdown",
   "id": "114eb063-4df2-4782-85fa-9aaf54fd1bb1",
   "metadata": {},
   "source": [
    "# 2 get the science files that have not been reduced yet"
   ]
  },
  {
   "cell_type": "code",
   "execution_count": 4,
   "id": "b14698bb-2ffc-4b86-882b-f3c1c48a44e9",
   "metadata": {},
   "outputs": [],
   "source": [
    "database = DatabaseInterface(db_path)"
   ]
  },
  {
   "cell_type": "code",
   "execution_count": 5,
   "id": "99aba8fc-629a-43dd-b446-593288da1774",
   "metadata": {},
   "outputs": [
    {
     "data": {
      "text/html": [
       "<div>\n",
       "<style scoped>\n",
       "    .dataframe tbody tr th:only-of-type {\n",
       "        vertical-align: middle;\n",
       "    }\n",
       "\n",
       "    .dataframe tbody tr th {\n",
       "        vertical-align: top;\n",
       "    }\n",
       "\n",
       "    .dataframe thead th {\n",
       "        text-align: right;\n",
       "    }\n",
       "</style>\n",
       "<table border=\"1\" class=\"dataframe\">\n",
       "  <thead>\n",
       "    <tr style=\"text-align: right;\">\n",
       "      <th></th>\n",
       "      <th>unique_key</th>\n",
       "    </tr>\n",
       "  </thead>\n",
       "  <tbody>\n",
       "    <tr>\n",
       "      <th>0</th>\n",
       "      <td>PG1047__2022-03-10T04:05:51.491</td>\n",
       "    </tr>\n",
       "    <tr>\n",
       "      <th>1</th>\n",
       "      <td>PG1047__2022-03-10T04:06:39.568</td>\n",
       "    </tr>\n",
       "    <tr>\n",
       "      <th>2</th>\n",
       "      <td>PG1047__2022-03-10T04:07:26.965</td>\n",
       "    </tr>\n",
       "    <tr>\n",
       "      <th>3</th>\n",
       "      <td>PG1047__2022-03-10T04:08:13.475</td>\n",
       "    </tr>\n",
       "    <tr>\n",
       "      <th>4</th>\n",
       "      <td>SN2018ibb__2022-03-10T00:37:36.811</td>\n",
       "    </tr>\n",
       "    <tr>\n",
       "      <th>5</th>\n",
       "      <td>SN2018ibb__2022-03-10T00:44:57.559</td>\n",
       "    </tr>\n",
       "    <tr>\n",
       "      <th>6</th>\n",
       "      <td>SN2018ibb__2022-03-10T00:52:18.441</td>\n",
       "    </tr>\n",
       "    <tr>\n",
       "      <th>7</th>\n",
       "      <td>SN2018ibb__2022-03-10T00:59:38.971</td>\n",
       "    </tr>\n",
       "    <tr>\n",
       "      <th>8</th>\n",
       "      <td>SN2021qvv__2022-03-10T04:23:16.247</td>\n",
       "    </tr>\n",
       "    <tr>\n",
       "      <th>9</th>\n",
       "      <td>SN2021qvv__2022-03-10T04:26:20.038</td>\n",
       "    </tr>\n",
       "    <tr>\n",
       "      <th>10</th>\n",
       "      <td>SN2021qvv__2022-03-10T04:29:24.507</td>\n",
       "    </tr>\n",
       "    <tr>\n",
       "      <th>11</th>\n",
       "      <td>SN2021qvv__2022-03-10T04:32:28.168</td>\n",
       "    </tr>\n",
       "  </tbody>\n",
       "</table>\n",
       "</div>"
      ],
      "text/plain": [
       "                            unique_key\n",
       "0      PG1047__2022-03-10T04:05:51.491\n",
       "1      PG1047__2022-03-10T04:06:39.568\n",
       "2      PG1047__2022-03-10T04:07:26.965\n",
       "3      PG1047__2022-03-10T04:08:13.475\n",
       "4   SN2018ibb__2022-03-10T00:37:36.811\n",
       "5   SN2018ibb__2022-03-10T00:44:57.559\n",
       "6   SN2018ibb__2022-03-10T00:52:18.441\n",
       "7   SN2018ibb__2022-03-10T00:59:38.971\n",
       "8   SN2021qvv__2022-03-10T04:23:16.247\n",
       "9   SN2021qvv__2022-03-10T04:26:20.038\n",
       "10  SN2021qvv__2022-03-10T04:29:24.507\n",
       "11  SN2021qvv__2022-03-10T04:32:28.168"
      ]
     },
     "execution_count": 5,
     "metadata": {},
     "output_type": "execute_result"
    }
   ],
   "source": [
    "database.get_unreduced_science_files()"
   ]
  },
  {
   "cell_type": "markdown",
   "id": "225ebf43-53c2-4956-ad78-4b0af775592c",
   "metadata": {},
   "source": [
    "# 3 reduce one science file"
   ]
  },
  {
   "cell_type": "code",
   "execution_count": 6,
   "id": "3ae3d5e4-1bd4-4e83-b453-3e82e360acfd",
   "metadata": {},
   "outputs": [],
   "source": [
    "science_id = 'PG1047__2022-03-10T04:05:51.491'\n",
    "science_file, flats, darks = database.get_files_for_science(science_id)"
   ]
  },
  {
   "cell_type": "code",
   "execution_count": 7,
   "id": "361d651b-f67c-49aa-97cb-bbf8b2b50548",
   "metadata": {},
   "outputs": [
    {
     "data": {
      "text/html": [
       "<div>\n",
       "<style scoped>\n",
       "    .dataframe tbody tr th:only-of-type {\n",
       "        vertical-align: middle;\n",
       "    }\n",
       "\n",
       "    .dataframe tbody tr th {\n",
       "        vertical-align: top;\n",
       "    }\n",
       "\n",
       "    .dataframe thead th {\n",
       "        text-align: right;\n",
       "    }\n",
       "</style>\n",
       "<table border=\"1\" class=\"dataframe\">\n",
       "  <thead>\n",
       "    <tr style=\"text-align: right;\">\n",
       "      <th></th>\n",
       "      <th>id</th>\n",
       "      <th>path</th>\n",
       "      <th>binning</th>\n",
       "      <th>filter</th>\n",
       "      <th>category</th>\n",
       "      <th>type</th>\n",
       "      <th>mjd</th>\n",
       "      <th>exposure_time</th>\n",
       "      <th>read_speed</th>\n",
       "      <th>object_name</th>\n",
       "      <th>date</th>\n",
       "    </tr>\n",
       "  </thead>\n",
       "  <tbody>\n",
       "    <tr>\n",
       "      <th>0</th>\n",
       "      <td>1</td>\n",
       "      <td>workdir/raw/EFOSC.2022-03-09T23:21:40.803.fits</td>\n",
       "      <td>2x2</td>\n",
       "      <td>U#640</td>\n",
       "      <td>CALIB</td>\n",
       "      <td>SKY,FLAT</td>\n",
       "      <td>59647.973389</td>\n",
       "      <td>1.0003</td>\n",
       "      <td>fastL</td>\n",
       "      <td>SKY,FLAT</td>\n",
       "      <td>2022-03-09T23:21:44.772</td>\n",
       "    </tr>\n",
       "    <tr>\n",
       "      <th>1</th>\n",
       "      <td>4</td>\n",
       "      <td>workdir/raw/EFOSC.2022-03-09T23:23:33.956.fits</td>\n",
       "      <td>2x2</td>\n",
       "      <td>U#640</td>\n",
       "      <td>CALIB</td>\n",
       "      <td>SKY,FLAT</td>\n",
       "      <td>59647.974699</td>\n",
       "      <td>4.5019</td>\n",
       "      <td>fastL</td>\n",
       "      <td>SKY,FLAT</td>\n",
       "      <td>2022-03-09T23:23:41.185</td>\n",
       "    </tr>\n",
       "    <tr>\n",
       "      <th>2</th>\n",
       "      <td>10</td>\n",
       "      <td>workdir/raw/EFOSC.2022-03-09T23:24:12.950.fits</td>\n",
       "      <td>2x2</td>\n",
       "      <td>U#640</td>\n",
       "      <td>CALIB</td>\n",
       "      <td>SKY,FLAT</td>\n",
       "      <td>59647.975150</td>\n",
       "      <td>5.1009</td>\n",
       "      <td>fastL</td>\n",
       "      <td>SKY,FLAT</td>\n",
       "      <td>2022-03-09T23:24:21.037</td>\n",
       "    </tr>\n",
       "    <tr>\n",
       "      <th>3</th>\n",
       "      <td>17</td>\n",
       "      <td>workdir/raw/EFOSC.2022-03-09T23:24:52.956.fits</td>\n",
       "      <td>2x2</td>\n",
       "      <td>U#640</td>\n",
       "      <td>CALIB</td>\n",
       "      <td>SKY,FLAT</td>\n",
       "      <td>59647.975613</td>\n",
       "      <td>5.9018</td>\n",
       "      <td>fastL</td>\n",
       "      <td>SKY,FLAT</td>\n",
       "      <td>2022-03-09T23:25:01.794</td>\n",
       "    </tr>\n",
       "    <tr>\n",
       "      <th>4</th>\n",
       "      <td>18</td>\n",
       "      <td>workdir/raw/EFOSC.2022-03-09T23:22:55.941.fits</td>\n",
       "      <td>2x2</td>\n",
       "      <td>U#640</td>\n",
       "      <td>CALIB</td>\n",
       "      <td>SKY,FLAT</td>\n",
       "      <td>59647.974259</td>\n",
       "      <td>3.9010</td>\n",
       "      <td>fastL</td>\n",
       "      <td>SKY,FLAT</td>\n",
       "      <td>2022-03-09T23:23:02.450</td>\n",
       "    </tr>\n",
       "    <tr>\n",
       "      <th>5</th>\n",
       "      <td>20</td>\n",
       "      <td>workdir/raw/EFOSC.2022-03-09T23:22:17.907.fits</td>\n",
       "      <td>2x2</td>\n",
       "      <td>U#640</td>\n",
       "      <td>CALIB</td>\n",
       "      <td>SKY,FLAT</td>\n",
       "      <td>59647.973818</td>\n",
       "      <td>3.4017</td>\n",
       "      <td>fastL</td>\n",
       "      <td>SKY,FLAT</td>\n",
       "      <td>2022-03-09T23:22:23.891</td>\n",
       "    </tr>\n",
       "  </tbody>\n",
       "</table>\n",
       "</div>"
      ],
      "text/plain": [
       "   id                                            path binning filter category  \\\n",
       "0   1  workdir/raw/EFOSC.2022-03-09T23:21:40.803.fits     2x2  U#640    CALIB   \n",
       "1   4  workdir/raw/EFOSC.2022-03-09T23:23:33.956.fits     2x2  U#640    CALIB   \n",
       "2  10  workdir/raw/EFOSC.2022-03-09T23:24:12.950.fits     2x2  U#640    CALIB   \n",
       "3  17  workdir/raw/EFOSC.2022-03-09T23:24:52.956.fits     2x2  U#640    CALIB   \n",
       "4  18  workdir/raw/EFOSC.2022-03-09T23:22:55.941.fits     2x2  U#640    CALIB   \n",
       "5  20  workdir/raw/EFOSC.2022-03-09T23:22:17.907.fits     2x2  U#640    CALIB   \n",
       "\n",
       "       type           mjd  exposure_time read_speed object_name  \\\n",
       "0  SKY,FLAT  59647.973389         1.0003      fastL    SKY,FLAT   \n",
       "1  SKY,FLAT  59647.974699         4.5019      fastL    SKY,FLAT   \n",
       "2  SKY,FLAT  59647.975150         5.1009      fastL    SKY,FLAT   \n",
       "3  SKY,FLAT  59647.975613         5.9018      fastL    SKY,FLAT   \n",
       "4  SKY,FLAT  59647.974259         3.9010      fastL    SKY,FLAT   \n",
       "5  SKY,FLAT  59647.973818         3.4017      fastL    SKY,FLAT   \n",
       "\n",
       "                      date  \n",
       "0  2022-03-09T23:21:44.772  \n",
       "1  2022-03-09T23:23:41.185  \n",
       "2  2022-03-09T23:24:21.037  \n",
       "3  2022-03-09T23:25:01.794  \n",
       "4  2022-03-09T23:23:02.450  \n",
       "5  2022-03-09T23:22:23.891  "
      ]
     },
     "execution_count": 7,
     "metadata": {},
     "output_type": "execute_result"
    }
   ],
   "source": [
    "# let us see what flats we have available.\n",
    "flats"
   ]
  },
  {
   "cell_type": "code",
   "execution_count": 8,
   "id": "15fb9c2b-8b11-48be-94c7-4612afcbf8c9",
   "metadata": {},
   "outputs": [],
   "source": [
    "output_dir = workdir / 'reduced'\n",
    "output_dir.mkdir(exist_ok=True)\n",
    "\n",
    "output_file = output_dir / f\"{science_id}.fits\"\n",
    "reduce_science_file(science_file, flats['path'], darks['path'], output_file)"
   ]
  },
  {
   "cell_type": "code",
   "execution_count": 9,
   "id": "30f34ee3-3be4-425e-9995-6d979f3794d6",
   "metadata": {},
   "outputs": [],
   "source": [
    "#reduced = fits.getdata(output_file)[5:900, 5:900]\n",
    "#from astropy.visualization import simple_norm\n",
    "#norm = simple_norm(reduced, percent=98)\n",
    "#plt.imshow(reduced, norm=norm, origin='lower')"
   ]
  },
  {
   "cell_type": "markdown",
   "id": "abd287ab-4609-42a0-b58e-7dc5b2c4b684",
   "metadata": {},
   "source": [
    "Tell the database we reduced this science file."
   ]
  },
  {
   "cell_type": "code",
   "execution_count": 10,
   "id": "8a30ba13-4bc3-4c00-b43d-9c7edd288c67",
   "metadata": {},
   "outputs": [],
   "source": [
    "database.add_reduced_data(science_id, output_file);"
   ]
  },
  {
   "cell_type": "markdown",
   "id": "bba83e9e-7864-4369-ae9f-b8134db7d13b",
   "metadata": {},
   "source": [
    "Now the file does not come up anymore when querying unreduced science files."
   ]
  },
  {
   "cell_type": "code",
   "execution_count": 11,
   "id": "30f3ee6f-9685-4de8-b20a-dd3acbc0fba3",
   "metadata": {},
   "outputs": [
    {
     "data": {
      "text/html": [
       "<div>\n",
       "<style scoped>\n",
       "    .dataframe tbody tr th:only-of-type {\n",
       "        vertical-align: middle;\n",
       "    }\n",
       "\n",
       "    .dataframe tbody tr th {\n",
       "        vertical-align: top;\n",
       "    }\n",
       "\n",
       "    .dataframe thead th {\n",
       "        text-align: right;\n",
       "    }\n",
       "</style>\n",
       "<table border=\"1\" class=\"dataframe\">\n",
       "  <thead>\n",
       "    <tr style=\"text-align: right;\">\n",
       "      <th></th>\n",
       "      <th>unique_key</th>\n",
       "    </tr>\n",
       "  </thead>\n",
       "  <tbody>\n",
       "    <tr>\n",
       "      <th>0</th>\n",
       "      <td>PG1047__2022-03-10T04:06:39.568</td>\n",
       "    </tr>\n",
       "    <tr>\n",
       "      <th>1</th>\n",
       "      <td>PG1047__2022-03-10T04:07:26.965</td>\n",
       "    </tr>\n",
       "    <tr>\n",
       "      <th>2</th>\n",
       "      <td>PG1047__2022-03-10T04:08:13.475</td>\n",
       "    </tr>\n",
       "    <tr>\n",
       "      <th>3</th>\n",
       "      <td>SN2018ibb__2022-03-10T00:37:36.811</td>\n",
       "    </tr>\n",
       "    <tr>\n",
       "      <th>4</th>\n",
       "      <td>SN2018ibb__2022-03-10T00:44:57.559</td>\n",
       "    </tr>\n",
       "    <tr>\n",
       "      <th>5</th>\n",
       "      <td>SN2018ibb__2022-03-10T00:52:18.441</td>\n",
       "    </tr>\n",
       "    <tr>\n",
       "      <th>6</th>\n",
       "      <td>SN2018ibb__2022-03-10T00:59:38.971</td>\n",
       "    </tr>\n",
       "    <tr>\n",
       "      <th>7</th>\n",
       "      <td>SN2021qvv__2022-03-10T04:23:16.247</td>\n",
       "    </tr>\n",
       "    <tr>\n",
       "      <th>8</th>\n",
       "      <td>SN2021qvv__2022-03-10T04:26:20.038</td>\n",
       "    </tr>\n",
       "    <tr>\n",
       "      <th>9</th>\n",
       "      <td>SN2021qvv__2022-03-10T04:29:24.507</td>\n",
       "    </tr>\n",
       "    <tr>\n",
       "      <th>10</th>\n",
       "      <td>SN2021qvv__2022-03-10T04:32:28.168</td>\n",
       "    </tr>\n",
       "  </tbody>\n",
       "</table>\n",
       "</div>"
      ],
      "text/plain": [
       "                            unique_key\n",
       "0      PG1047__2022-03-10T04:06:39.568\n",
       "1      PG1047__2022-03-10T04:07:26.965\n",
       "2      PG1047__2022-03-10T04:08:13.475\n",
       "3   SN2018ibb__2022-03-10T00:37:36.811\n",
       "4   SN2018ibb__2022-03-10T00:44:57.559\n",
       "5   SN2018ibb__2022-03-10T00:52:18.441\n",
       "6   SN2018ibb__2022-03-10T00:59:38.971\n",
       "7   SN2021qvv__2022-03-10T04:23:16.247\n",
       "8   SN2021qvv__2022-03-10T04:26:20.038\n",
       "9   SN2021qvv__2022-03-10T04:29:24.507\n",
       "10  SN2021qvv__2022-03-10T04:32:28.168"
      ]
     },
     "execution_count": 11,
     "metadata": {},
     "output_type": "execute_result"
    }
   ],
   "source": [
    "database.get_unreduced_science_files()"
   ]
  },
  {
   "cell_type": "markdown",
   "id": "3f172bbc-995a-4854-ba2a-c46b7a70f9ae",
   "metadata": {},
   "source": [
    "# 4 Reduce all science files in the same way"
   ]
  },
  {
   "cell_type": "code",
   "execution_count": 12,
   "id": "1d66e519-8fba-499a-b8b8-d7da9cdbf0ab",
   "metadata": {},
   "outputs": [
    {
     "name": "stdout",
     "output_type": "stream",
     "text": [
      "reducing PG1047__2022-03-10T04:06:39.568\n",
      "reducing PG1047__2022-03-10T04:07:26.965\n",
      "   not enough calibs!\n",
      "reducing PG1047__2022-03-10T04:08:13.475\n",
      "   not enough calibs!\n",
      "reducing SN2018ibb__2022-03-10T00:37:36.811\n",
      "reducing SN2018ibb__2022-03-10T00:44:57.559\n",
      "reducing SN2018ibb__2022-03-10T00:52:18.441\n",
      "reducing SN2018ibb__2022-03-10T00:59:38.971\n",
      "reducing SN2021qvv__2022-03-10T04:23:16.247\n",
      "reducing SN2021qvv__2022-03-10T04:26:20.038\n",
      "reducing SN2021qvv__2022-03-10T04:29:24.507\n",
      "reducing SN2021qvv__2022-03-10T04:32:28.168\n"
     ]
    }
   ],
   "source": [
    "for science_id in database.get_unreduced_science_files()['unique_key']:\n",
    "    print('reducing', science_id)\n",
    "    science_file, flats, darks = database.get_files_for_science(science_id)\n",
    "    if len(flats) == 0 or len(darks) == 0:\n",
    "        print('   not enough calibs!')\n",
    "        continue\n",
    "    output_file = output_dir / f\"{science_id}.fits\"\n",
    "    reduce_science_file(science_file, flats['path'], darks['path'], output_file)\n",
    "    database.add_reduced_data(science_id, output_file)"
   ]
  },
  {
   "cell_type": "markdown",
   "id": "2574ed9f-341e-4f04-af54-9a6c78290707",
   "metadata": {},
   "source": [
    " "
   ]
  },
  {
   "cell_type": "markdown",
   "id": "bf82fc7e-505b-496c-8b41-6282e5ebe5f2",
   "metadata": {},
   "source": [
    "\n",
    "\n",
    "\n",
    "\n",
    "Executing the same sequence again, nothing is done, saving CPU time."
   ]
  },
  {
   "cell_type": "code",
   "execution_count": 13,
   "id": "25870a92-ecce-482f-8be6-d69fba86b847",
   "metadata": {},
   "outputs": [
    {
     "name": "stdout",
     "output_type": "stream",
     "text": [
      "reducing PG1047__2022-03-10T04:07:26.965\n",
      "   not enough calibs!\n",
      "reducing PG1047__2022-03-10T04:08:13.475\n",
      "   not enough calibs!\n"
     ]
    }
   ],
   "source": [
    "for science_id in database.get_unreduced_science_files()['unique_key']:\n",
    "    print('reducing', science_id)\n",
    "    science_file, flats, darks = database.get_files_for_science(science_id)\n",
    "    if len(flats) == 0 or len(darks) == 0:\n",
    "        print('   not enough calibs!')\n",
    "        continue\n",
    "    output_file = output_dir / f\"{science_id}.fits\"\n",
    "    reduce_science_file(science_file, flats['path'], darks['path'], output_file)\n",
    "    database.add_reduced_data(science_id, output_file)"
   ]
  },
  {
   "cell_type": "code",
   "execution_count": null,
   "id": "698f391e-a1cc-4419-9503-121e28d7dc65",
   "metadata": {},
   "outputs": [],
   "source": []
  }
 ],
 "metadata": {
  "kernelspec": {
   "display_name": "Python 3 (ipykernel)",
   "language": "python",
   "name": "python3"
  },
  "language_info": {
   "codemirror_mode": {
    "name": "ipython",
    "version": 3
   },
   "file_extension": ".py",
   "mimetype": "text/x-python",
   "name": "python",
   "nbconvert_exporter": "python",
   "pygments_lexer": "ipython3",
   "version": "3.11.3"
  }
 },
 "nbformat": 4,
 "nbformat_minor": 5
}
